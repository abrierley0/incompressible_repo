{
 "cells": [
  {
   "cell_type": "code",
   "execution_count": 17,
   "id": "7f02772c-828d-40e5-92bc-b725cb9782d9",
   "metadata": {},
   "outputs": [],
   "source": [
    "import numpy as np\n",
    "%matplotlib inline\n",
    "%config InlineBackend.figure_format = 'svg'\n",
    "import matplotlib.pyplot as plt\n",
    "import matplotlib.animation as animation\n",
    "from matplotlib import cm\n",
    "plt.rcParams['animation.html'] = 'html5'"
   ]
  },
  {
   "cell_type": "code",
   "execution_count": 18,
   "id": "f5a4a421-6dbe-4d04-b2ea-0f4183783d7e",
   "metadata": {},
   "outputs": [],
   "source": [
    "nx = 13\n",
    "ny = 13\n",
    "lx = 1.0\n",
    "ly = 1.0\n",
    "dx = lx/(nx-1)\n",
    "dy = ly/(ny-1)"
   ]
  },
  {
   "cell_type": "code",
   "execution_count": 19,
   "id": "35c9c8e4-88c8-4dd3-a6ac-522e34902042",
   "metadata": {},
   "outputs": [],
   "source": [
    "Ut = 1.0 # top wall velocity"
   ]
  },
  {
   "cell_type": "code",
   "execution_count": 20,
   "id": "d75880b3-a97d-4ef5-aaa7-111146ccd946",
   "metadata": {},
   "outputs": [],
   "source": [
    "psi0 = np.zeros([nx,ny])\n",
    "w0 = np.zeros([nx,ny])\n",
    "\n",
    "# STREAMFUNCTION BOUNDARY CONDITIONS\n",
    "psi_wall = 0.0\n",
    "\n",
    "# VORTICITY BOUNDARY CONDITIONS \n",
    "# Notation: (w0[j,i])\n",
    "w0[:,0] = 2.0*(psi_wall - psi0[:,1])                # left wall\n",
    "w0[:,-1] = 2.0*(psi_wall - psi0[:,-2])              # right wall\n",
    "w0[0,:] = 2.0*(psi_wall - psi0[1,:])                # bottom wall\n",
    "w0[-1,:] = 2.0*(psi_wall - psi0[-2,:]) - 2.0*Ut/dy  # top wall \n",
    "\n",
    "# Solution storage\n",
    "psisol = []\n",
    "psisol.append(psi0)\n",
    "wsol = []\n",
    "wsol.append(w0)"
   ]
  },
  {
   "cell_type": "code",
   "execution_count": 21,
   "id": "5512c760-240d-47e6-91dc-627bc16e0490",
   "metadata": {},
   "outputs": [
    {
     "name": "stdout",
     "output_type": "stream",
     "text": [
      "[[  0.   0.   0.   0.   0.   0.   0.   0.   0.   0.   0.   0.   0.]\n",
      " [  0.   0.   0.   0.   0.   0.   0.   0.   0.   0.   0.   0.   0.]\n",
      " [  0.   0.   0.   0.   0.   0.   0.   0.   0.   0.   0.   0.   0.]\n",
      " [  0.   0.   0.   0.   0.   0.   0.   0.   0.   0.   0.   0.   0.]\n",
      " [  0.   0.   0.   0.   0.   0.   0.   0.   0.   0.   0.   0.   0.]\n",
      " [  0.   0.   0.   0.   0.   0.   0.   0.   0.   0.   0.   0.   0.]\n",
      " [  0.   0.   0.   0.   0.   0.   0.   0.   0.   0.   0.   0.   0.]\n",
      " [  0.   0.   0.   0.   0.   0.   0.   0.   0.   0.   0.   0.   0.]\n",
      " [  0.   0.   0.   0.   0.   0.   0.   0.   0.   0.   0.   0.   0.]\n",
      " [  0.   0.   0.   0.   0.   0.   0.   0.   0.   0.   0.   0.   0.]\n",
      " [  0.   0.   0.   0.   0.   0.   0.   0.   0.   0.   0.   0.   0.]\n",
      " [  0.   0.   0.   0.   0.   0.   0.   0.   0.   0.   0.   0.   0.]\n",
      " [-24. -24. -24. -24. -24. -24. -24. -24. -24. -24. -24. -24. -24.]]\n"
     ]
    }
   ],
   "source": [
    "print(w0)"
   ]
  },
  {
   "cell_type": "code",
   "execution_count": 22,
   "id": "367d269a-99e4-4709-abed-dfce3610e451",
   "metadata": {},
   "outputs": [
    {
     "name": "stdout",
     "output_type": "stream",
     "text": [
      "dt = 0.03472222222222222 s\n",
      "Re = 20.0\n"
     ]
    }
   ],
   "source": [
    "# simulation parameters\n",
    "beta = 1.5\n",
    "tol = 1e-3\n",
    "maxIt = 30\n",
    "\n",
    "t = 0.0  # initial time and time counter\n",
    "v = 0.05  # nu\n",
    "dt = min(0.25*dx*dx/v, 4*v/Ut/Ut)\n",
    "tend = 1000*dt\n",
    "print('dt =', dt, 's')\n",
    "print('Re =', Ut*lx/v)\n"
   ]
  },
  {
   "cell_type": "code",
   "execution_count": 27,
   "id": "ded92b6d-5830-4e98-bbc8-45a260504e08",
   "metadata": {},
   "outputs": [],
   "source": [
    "while t < tend:\n",
    "    # STREAMFUNCTION-POISSON EQUATION\n",
    "    it = 0\n",
    "    err = 1e5\n",
    "    wn = wsol[-1]\n",
    "    psi = psisol[-1].copy()\n",
    "    while err > tol and it < maxIt:\n",
    "        psik = np.zeros_like(psi)\n",
    "        psik[1:-1, 1:-1] = psi[1:-1, 1:-1]\n",
    "        for i in range(1,nx-1):\n",
    "            for j in  range(1,ny-1):\n",
    "                rhs = (dx*dy)**2*wn[j,i] + dy**2*(psi[j,i+1]) + dy**2*(psi[j,i+1]+ psi[j,i-1]) + dx**2*(psi[j+1,i] + psi[j-1,i])\n",
    "                rhs *= beta/2/(dx**2 + dy**2)\n",
    "                psi[j,i] = rhs + (1 - beta)*psi[j,i]\n",
    "        err = np.linalg.norm(psi.ravel() - psik.ravel())\n",
    "        it += 1\n",
    "    psisol.append(psi)\n",
    "\n",
    "    w = np.zeros_like(wn)\n",
    "    # 2D VORTICITY TRANSPORT EQUATION\n",
    "    Cx = -(psi[2:,1:-1] - psi[:-2,1:-1])/2.0/dy * (wn[1:-1,2:] - wn[1:-1,:-2])/2.0/dx\n",
    "    Cy = (psi[1:-1,2:] + psi[1:-1,:-2])/2.0/dx * (wn[2:,1:-1] - wn[:-2,1:-1])/2.0/dy\n",
    "    Dx = (wn[1:-1,2:] + wn[1:-1,:-2] - 2.0*wn[1:-1,1:-1])/dx/dx\n",
    "    Dy = (wn[2:,1:-1] + wn[:-2,1:-1] - 2.0*wn[1:-1,1:-1])/dy/dy\n",
    "\n",
    "    rhs = Cx + Cy + v*(Dx + Dy)  \n",
    "    w[1:-1,1:-1] = wn[1:-1,1:-1] + dt * rhs\n",
    "\n",
    "    # UPDATE VORTICITY BOUNDARY CONDITIONS \n",
    "    w[:,0] = 2.0*(psi_wall - psi0[:,1])                # left wall\n",
    "    w[:,-1] = 2.0*(psi_wall - psi0[:,-2])              # right wall\n",
    "    w[0,:] = 2.0*(psi_wall - psi0[1,:])                # bottom wall\n",
    "    w[-1,:] = 2.0*(psi_wall - psi0[-2,:]) - 2.0*Ut/dy  # top wall \n",
    "\n",
    "    wsol.append(w)\n",
    "    \n",
    "    t += dt\n",
    "        \n"
   ]
  },
  {
   "cell_type": "code",
   "execution_count": null,
   "id": "de46acb0-003e-4864-ba52-1fe35e024782",
   "metadata": {},
   "outputs": [],
   "source": []
  }
 ],
 "metadata": {
  "kernelspec": {
   "display_name": "Python 3 (ipykernel)",
   "language": "python",
   "name": "python3"
  },
  "language_info": {
   "codemirror_mode": {
    "name": "ipython",
    "version": 3
   },
   "file_extension": ".py",
   "mimetype": "text/x-python",
   "name": "python",
   "nbconvert_exporter": "python",
   "pygments_lexer": "ipython3",
   "version": "3.12.3"
  }
 },
 "nbformat": 4,
 "nbformat_minor": 5
}

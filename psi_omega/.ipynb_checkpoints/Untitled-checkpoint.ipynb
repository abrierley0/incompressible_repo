{
 "cells": [
  {
   "cell_type": "code",
   "execution_count": null,
   "id": "11366589-ffc9-4718-a601-b0876dd6905d",
   "metadata": {},
   "outputs": [],
   "source": []
  }
 ],
 "metadata": {
  "kernelspec": {
   "display_name": "",
   "name": ""
  },
  "language_info": {
   "name": ""
  }
 },
 "nbformat": 4,
 "nbformat_minor": 5
}
